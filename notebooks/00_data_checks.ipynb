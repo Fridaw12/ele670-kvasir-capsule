{
 "cells": [
  {
   "cell_type": "code",
   "execution_count": 1,
   "id": "392b2a36",
   "metadata": {},
   "outputs": [
    {
     "name": "stdout",
     "output_type": "stream",
     "text": [
      "                     filename          video_id  frame_number  \\\n",
      "0  0728084c8da942d9_22803.jpg  0728084c8da942d9         22803   \n",
      "1  0728084c8da942d9_22804.jpg  0728084c8da942d9         22804   \n",
      "2  0728084c8da942d9_22805.jpg  0728084c8da942d9         22805   \n",
      "3  0728084c8da942d9_22806.jpg  0728084c8da942d9         22806   \n",
      "4  0728084c8da942d9_22807.jpg  0728084c8da942d9         22807   \n",
      "\n",
      "  finding_category        finding_class  x1  y1  x2  y2  x3  y3  x4  y4  \n",
      "0          Luminal  Normal clean mucosa NaN NaN NaN NaN NaN NaN NaN NaN  \n",
      "1          Luminal  Normal clean mucosa NaN NaN NaN NaN NaN NaN NaN NaN  \n",
      "2          Luminal  Normal clean mucosa NaN NaN NaN NaN NaN NaN NaN NaN  \n",
      "3          Luminal  Normal clean mucosa NaN NaN NaN NaN NaN NaN NaN NaN  \n",
      "4          Luminal  Normal clean mucosa NaN NaN NaN NaN NaN NaN NaN NaN  \n",
      "finding_class\n",
      "Normal clean mucosa     34338\n",
      "Ileocecal valve          4189\n",
      "Reduced Mucosal View     2906\n",
      "Pylorus                  1538\n",
      "Angiectasia               866\n",
      "Ulcer                     854\n",
      "Foreign Body              776\n",
      "Lymphangiectasia          592\n",
      "Erosion                   507\n",
      "Blood - fresh             446\n",
      "Erythema                  159\n",
      "Polyp                      55\n",
      "Blood - hematin            12\n",
      "Ampulla of Vater           10\n",
      "Name: count, dtype: int64\n"
     ]
    }
   ],
   "source": [
    "import pandas as pd\n",
    "\n",
    "# specify the path to your metadata.csv\n",
    "csv_path = \"../data/raw/metadata.csv\"\n",
    "\n",
    "df = pd.read_csv(csv_path, sep=\";\")\n",
    "\n",
    "print(df.head())\n",
    "print(df['finding_class'].value_counts())"
   ]
  }
 ],
 "metadata": {
  "kernelspec": {
   "display_name": "ele670",
   "language": "python",
   "name": "python3"
  },
  "language_info": {
   "codemirror_mode": {
    "name": "ipython",
    "version": 3
   },
   "file_extension": ".py",
   "mimetype": "text/x-python",
   "name": "python",
   "nbconvert_exporter": "python",
   "pygments_lexer": "ipython3",
   "version": "3.10.18"
  }
 },
 "nbformat": 4,
 "nbformat_minor": 5
}
